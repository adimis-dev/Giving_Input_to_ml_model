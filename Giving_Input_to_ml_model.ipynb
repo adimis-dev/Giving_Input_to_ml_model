{
  "nbformat": 4,
  "nbformat_minor": 0,
  "metadata": {
    "colab": {
      "name": "Giving_Input_to_ml_model.ipynb",
      "provenance": [],
      "authorship_tag": "ABX9TyPBbFv6auP8aa8c95j4QagB",
      "include_colab_link": true
    },
    "kernelspec": {
      "name": "python3",
      "display_name": "Python 3"
    },
    "language_info": {
      "name": "python"
    }
  },
  "cells": [
    {
      "cell_type": "markdown",
      "metadata": {
        "id": "view-in-github",
        "colab_type": "text"
      },
      "source": [
        "<a href=\"https://colab.research.google.com/github/adimis-dev/Giving_Input_to_ml_model/blob/main/Giving_Input_to_ml_model.ipynb\" target=\"_parent\"><img src=\"https://colab.research.google.com/assets/colab-badge.svg\" alt=\"Open In Colab\"/></a>"
      ]
    },
    {
      "cell_type": "code",
      "execution_count": 1,
      "metadata": {
        "colab": {
          "base_uri": "https://localhost:8080/"
        },
        "id": "GdjOU1iGV0xX",
        "outputId": "53150cc9-8411-42ea-e7fc-50bb23054961"
      },
      "outputs": [
        {
          "output_type": "stream",
          "name": "stdout",
          "text": [
            "Prediction: ['Iris-setosa']\n"
          ]
        },
        {
          "output_type": "stream",
          "name": "stderr",
          "text": [
            "/usr/local/lib/python3.7/dist-packages/sklearn/base.py:451: UserWarning: X does not have valid feature names, but KNeighborsClassifier was fitted with feature names\n",
            "  \"X does not have valid feature names, but\"\n"
          ]
        }
      ],
      "source": [
        "import pandas as pd\n",
        "import numpy as np\n",
        "iris = pd.read_csv(\"IRIS.csv\")\n",
        "# splitting the dataset\n",
        "x = iris.drop(\"species\", axis=1)\n",
        "y = iris[\"species\"]\n",
        "from sklearn.model_selection import train_test_split\n",
        "x_train, x_test, y_train, y_test = train_test_split(x, y, \n",
        "                                                    test_size=0.2, \n",
        "                                                    random_state=0)\n",
        "# training the model\n",
        "from sklearn.neighbors import KNeighborsClassifier\n",
        "knn = KNeighborsClassifier(n_neighbors=1)\n",
        "knn.fit(x_train, y_train)\n",
        "# giving inputs to the machine learning model\n",
        "# features = [[sepal_length, sepal_width, petal_length, petal_width]]\n",
        "features = np.array([[5, 2.9, 1, 0.2]])\n",
        "# using inputs to predict the output\n",
        "prediction = knn.predict(features)\n",
        "print(\"Prediction: {}\".format(prediction))"
      ]
    }
  ]
}